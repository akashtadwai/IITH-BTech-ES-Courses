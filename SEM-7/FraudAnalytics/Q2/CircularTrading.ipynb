{
  "cells": [
    {
      "cell_type": "markdown",
      "metadata": {
        "id": "lvlO1nXnz89M"
      },
      "source": [
        "## Authors:\n",
        "\n",
        "- Vinta Reethu       - ES18BTECH11028\n",
        "- Chaitanya Janakie  - CS18BTECH11036\n",
        "- Akash Tadwai       - ES18BTECH11019 "
      ]
    },
    {
      "cell_type": "markdown",
      "metadata": {
        "id": "qfxXu7aI1gER"
      },
      "source": [
        "# CircularTrade Detection\n"
      ]
    },
    {
      "cell_type": "code",
      "execution_count": 8,
      "metadata": {
        "id": "sbh_VDsuiPug"
      },
      "outputs": [],
      "source": [
        "import copy\n",
        "import numpy as np\n",
        "import pandas as pd\n",
        "import pathlib\n",
        "\n",
        "from typing import DefaultDict, List, Tuple, Set, Union \n",
        "from collections import defaultdict\n",
        "from functools import reduce \n",
        "\n",
        "np.random.seed(42)"
      ]
    },
    {
      "cell_type": "code",
      "execution_count": 9,
      "metadata": {
        "id": "3XJzSe5Ajudt"
      },
      "outputs": [],
      "source": [
        "# Global Variables & Type Hints for the Notebook\n",
        "\"\"\"\n",
        "For testing the correctness of the algorithms, we have created the graph\n",
        "which is given in the paper for which the values are already calculated.\n",
        "we then applied the algorithms on this graph for which outputs we got are displayed\n",
        "\n",
        "For implementing these algorithms on the large graph change the `path` variable to \"PATH\" \n",
        "while calling process_dataset function\n",
        "\"\"\"\n",
        "\n",
        "PATH = pathlib.Path('./cluster.csv')\n",
        "test_dataset = pathlib.Path(\"./small_set.csv\")\n",
        "Graph = DefaultDict[int, List[Tuple[int, int]]]\n",
        "Param = Tuple[int,int]\n",
        "Vertex = int \n",
        "Cluster = defaultdict(set) "
      ]
    },
    {
      "cell_type": "code",
      "execution_count": 10,
      "metadata": {
        "id": "mSMAHmHBj2F6"
      },
      "outputs": [],
      "source": [
        "def process_dataset(path: pathlib.Path):\n",
        "    \"\"\"Read and process dataset\"\"\"\n",
        "    df = pd.read_csv(path)\n",
        "    df.columns = ['v1', 'v2', 'amount']\n",
        "    return df\n",
        "\n",
        "df = process_dataset(test_dataset)\n",
        "vertices = np.union1d(df['v1'],df['v2'])\n",
        "graph = defaultdict(list)\n",
        "\n",
        "for index, row in df.iterrows():\n",
        "    v1, v2, amount = row\n",
        "    graph[v1].append((v2, amount))"
      ]
    },
    {
      "cell_type": "code",
      "execution_count": 11,
      "metadata": {
        "id": "7RjBPWWEu053"
      },
      "outputs": [],
      "source": [
        "\"\"\" Util functions for implemeting further algorithms \"\"\"\n",
        "\n",
        "def reducetoSet(arr:set):\n",
        "    return set(reduce(lambda a,b:set(a).union(set(b)),arr))\n",
        "\n",
        "class StockFlowGraph:\n",
        "    \"\"\"Creates a stockflow graph from given graph and defines some common methods on stockflow graph\"\"\"\n",
        "\n",
        "    def __init__(self,graph:Graph,k:int):\n",
        "        self.graph = graph \n",
        "        self.k = k \n",
        "        self.mnvDict = defaultdict(dict) # stores (idx,weight) at which v2 appears in v1's kNN set \n",
        "\n",
        "    def _get_sfg(self, graph: Graph):\n",
        "        \"\"\"Return a Stock Flow Graph with max k neighbours\"\"\"\n",
        "        sfg = copy.copy(graph)\n",
        "        for v in vertices:\n",
        "            sfg[v].sort(key=lambda x: x[1], reverse=True)\n",
        "            # k-nearest neighbours of v\n",
        "            topK = sfg[v][:self.k]\n",
        "\n",
        "            for idx,ele in enumerate(topK):\n",
        "                self.mnvDict[v][ele[0]]= (idx+1,ele[1])\n",
        "\n",
        "            sfg[v] = set(map(lambda x: x[0],topK))\n",
        "        return sfg \n",
        "\n",
        "    def getStockFlowGraph(self):\n",
        "        # getter for stockflow graph \n",
        "        return self._get_sfg(self.graph) "
      ]
    },
    {
      "cell_type": "code",
      "execution_count": 12,
      "metadata": {
        "id": "3_poGG3dv4KR"
      },
      "outputs": [],
      "source": [
        "class SharedNN(StockFlowGraph):\n",
        "    \"\"\" Implementation of SharedNN algorithm\"\"\"\n",
        "    def __init__(self,k,kt):\n",
        "        self.k=k\n",
        "        self.kt=kt\n",
        "        self.sfg = StockFlowGraph(graph,self.k)\n",
        "    \n",
        "    def toMerge(self,v:Vertex,u:Vertex,C:Cluster,s1:set,s2:set):\n",
        "        # Condition to check to manipulate clusters \n",
        "        return (v not in C[u] and len(s1.intersection(s2))>=self.kt and u in s2 and v in s1)\n",
        "\n",
        "    def fit(self,graph:Graph):\n",
        "        # Implementation of the SharedNN algorithm on a graph \n",
        "\n",
        "        self._G = self.sfg.getStockFlowGraph()\n",
        "        S = set(map(lambda x: tuple([x]),vertices))\n",
        "        C = defaultdict(set) # C[x] contains all the vertices that are present in cluster where `x` belongs to.\n",
        "        for key in vertices:\n",
        "            C[key]|={key} #initially each vertex belongs to its own cluster\n",
        "\n",
        "        for u in vertices:\n",
        "            for v in vertices:\n",
        "                s1 = self._G[u]\n",
        "                s2 = self._G[v]\n",
        "                if self.toMerge(v,u,C,s1,s2):\n",
        "                    union = C[u].union(C[v])\n",
        "                    S.remove(tuple(C[u]))\n",
        "                    S.remove(tuple(C[v]))\n",
        "                    S.add(tuple(union))\n",
        "                    for ele in union:\n",
        "                        C[ele]=union \n",
        "        filtered = list(filter(lambda x: len(x)>1,S)) # returns possible collusion sets\n",
        "        return filtered"
      ]
    },
    {
      "cell_type": "code",
      "execution_count": 13,
      "metadata": {
        "id": "wnIaZItw0y6d"
      },
      "outputs": [],
      "source": [
        "class MutualNNAvg(StockFlowGraph):\n",
        "    \"\"\" Implementation of MutualNN algorithm\"\"\"\n",
        "    def __init__(self,k,m):\n",
        "        self.k=k\n",
        "        self.m = m\n",
        "        self.mxVal = 1000 # max value to break when mnvVal (mutual neighbourhood value) exceeds some limit.\n",
        "        self.sfg = StockFlowGraph(graph,self.k)\n",
        "        self.mnvDict = self.sfg.mnvDict \n",
        "\n",
        "    def mnvPoints(self,v1:Vertex,v2:Vertex):\n",
        "        # Implementation of mutual neighbourhood value for two vertices in a graph \n",
        "        mnv, dist = (0,1)\n",
        "        if v2 in self.mnvDict[v1]:\n",
        "            mnv += self.mnvDict[v1][v2][0]\n",
        "            dist = min(dist,-self.mnvDict[v1][v2][1])\n",
        "        else:\n",
        "            mnv += self.mxVal \n",
        "        if v1 in self.mnvDict[v2]:\n",
        "            mnv += self.mnvDict[v2][v1][0]\n",
        "            dist = min(dist,-self.mnvDict[v2][v1][1])\n",
        "        else:\n",
        "            mnv += self.mxVal\n",
        "        \n",
        "        return mnv, dist  \n",
        "\n",
        "    def mnvClusters(self,c1:Cluster,c2:Cluster):\n",
        "        \"\"\"`mnv` value for two clusters \"\"\"\n",
        "        mnv, dist = (0, 1)\n",
        "        for ele1 in c1:\n",
        "            for ele2 in c2:\n",
        "                val1, val2 = self.mnvPoints(ele1,ele2)\n",
        "                mnv += val1\n",
        "                dist = min(dist, val2)\n",
        "        mnv = mnv/(len(c1)*len(c2))\n",
        "        return mnv, dist \n",
        "        \n",
        "    def fit(self, graph: Graph):\n",
        "        # S contains collusion sets\n",
        "        self._G = self.sfg.getStockFlowGraph()\n",
        "        # Initially every vertex is a singleton cluster\n",
        "        S = set(map(lambda x: tuple([x]),vertices))\n",
        "\n",
        "        while len(S)>self.m:\n",
        "            mnValue = float('inf')\n",
        "            mnClusterdistance = 1\n",
        "            clusterPair = None \n",
        "            for c1 in S:\n",
        "                for c2 in S:\n",
        "                    if c1==c2:\n",
        "                        continue \n",
        "                    mnv, dist = self.mnvClusters(c1,c2)\n",
        "                    if mnv<mnValue or (mnv==mnValue and mnClusterdistance>dist):\n",
        "                        mnClusterdistance = dist\n",
        "                        mnValue = mnv\n",
        "                        clusterPair = (c1,c2)\n",
        "                  \n",
        "            if mnValue>=self.mxVal:\n",
        "                break \n",
        "            S.remove(clusterPair[0])\n",
        "            S.remove(clusterPair[1])\n",
        "            S.add(tuple(set(clusterPair[0]).union(set(clusterPair[1]))))\n",
        "        filtered = list(filter(lambda x: len(x)>1,S)) # returns possible collusion sets\n",
        "        return filtered\n"
      ]
    },
    {
      "cell_type": "code",
      "execution_count": 14,
      "metadata": {
        "id": "ccgeMG2o2pyO"
      },
      "outputs": [],
      "source": [
        "def getCandidates(hyper_params:List[Param],algo:Union[SharedNN,MutualNNAvg]):\n",
        "    # Given a list of hyperparams returns the possible candidate collusion set / fraud vertices \n",
        "    frauds = []\n",
        "    for k,var in (hyper_params): # var can be either kt/m based on algorithm\n",
        "        clusters = algo(k,var).fit(graph)\n",
        "        print(f\"\\n Collusion set for k: {k}, kt/m: {var} \\n \")\n",
        "        print(sorted(clusters,key=lambda x: len(x),reverse=True))\n",
        "        clusterSet = reducetoSet(clusters)\n",
        "        frauds.append(clusterSet)\n",
        "    print(\"\\n Candidate Collusion set is: \")\n",
        "    return set(reduce(lambda a,b:a.intersection(b),frauds))"
      ]
    },
    {
      "cell_type": "code",
      "execution_count": 15,
      "metadata": {
        "colab": {
          "base_uri": "https://localhost:8080/"
        },
        "id": "KxbUwOkL9kVO",
        "outputId": "da7419d3-fa41-4513-db06-16f9b22c5c8b"
      },
      "outputs": [
        {
          "name": "stdout",
          "output_type": "stream",
          "text": [
            "\n",
            " Collusion set for k: 5, kt/m: 2 \n",
            " \n",
            "[(1042, 1074, 1029, 1035, 1037)]\n",
            "\n",
            " Collusion set for k: 7, kt/m: 5 \n",
            " \n",
            "[(1057, 1042, 1074, 1029, 1049, 1037)]\n",
            "\n",
            " Collusion set for k: 6, kt/m: 4 \n",
            " \n",
            "[(1037, 1042, 1074, 1029)]\n",
            "\n",
            " Collusion set for k: 5, kt/m: 3 \n",
            " \n",
            "[(1042, 1074, 1029, 1035, 1037)]\n",
            "\n",
            " Collusion set for k: 4, kt/m: 2 \n",
            " \n",
            "[(1042, 1074, 1029, 1035, 1037)]\n",
            "\n",
            " Candidate Collusion set is: \n",
            "{1042, 1037, 1074, 1029}\n"
          ]
        }
      ],
      "source": [
        "# Testing for SharedNN Algorithm\n",
        "hyper_params = [(5,2),(7,5),(6,4),(5,3),(4,2)]\n",
        "print(getCandidates(hyper_params,SharedNN))"
      ]
    },
    {
      "cell_type": "code",
      "execution_count": 16,
      "metadata": {
        "colab": {
          "base_uri": "https://localhost:8080/"
        },
        "id": "nvYsQaV72jS0",
        "outputId": "2fad5013-bd7c-4612-bce7-114f959926ec"
      },
      "outputs": [
        {
          "name": "stdout",
          "output_type": "stream",
          "text": [
            "\n",
            " Collusion set for k: 2, kt/m: 1 \n",
            " \n",
            "[(1037, 1029, 1054)]\n",
            "\n",
            " Collusion set for k: 3, kt/m: 1 \n",
            " \n",
            "[(1037, 1029, 1054), (1042, 1035)]\n",
            "\n",
            " Collusion set for k: 4, kt/m: 1 \n",
            " \n",
            "[(1074, 1037, 1029, 1054), (1042, 1035)]\n",
            "\n",
            " Collusion set for k: 5, kt/m: 1 \n",
            " \n",
            "[(1074, 1042, 1029, 1035, 1037, 1054)]\n",
            "\n",
            " Candidate Collusion set is: \n",
            "{1037, 1029, 1054}\n"
          ]
        }
      ],
      "source": [
        "# Testing on MutualNNAvg algorithm\n",
        "hyper_params = [(2,1),(3,1),(4,1),(5,1)]\n",
        "print(getCandidates(hyper_params,MutualNNAvg))"
      ]
    }
  ],
  "metadata": {
    "colab": {
      "name": "CircularTrading_Final.ipynb",
      "provenance": []
    },
    "kernelspec": {
      "display_name": "Python 3",
      "name": "python3"
    },
    "language_info": {
      "name": "python"
    }
  },
  "nbformat": 4,
  "nbformat_minor": 0
}
